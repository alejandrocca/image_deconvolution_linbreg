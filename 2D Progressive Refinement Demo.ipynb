{
 "cells": [
  {
   "cell_type": "markdown",
   "metadata": {},
   "source": [
    "# 2D Image Progressive Refinement Demo with Linear Bregman Iteration\n",
    "\n",
    "by Xingjia Wang\n",
    "\n",
    "Summary: The following notebook contains a demonstration of using Linear Bregman Iteration to recover progressively a random 2D image (represented by a 2D numpy array) with binned regional recovery, i.e., the recovery process will only be applied on selected non-zero regions of the blurred image. "
   ]
  },
  {
   "cell_type": "markdown",
   "metadata": {},
   "source": [
    "## Unit Import"
   ]
  },
  {
   "cell_type": "code",
   "execution_count": 1,
   "metadata": {
    "scrolled": true
   },
   "outputs": [],
   "source": [
    "import numpy as np\n",
    "import scipy.ndimage\n",
    "import scipy.ndimage.filters as fi\n",
    "import scipy.stats as st\n",
    "import matplotlib.pyplot as plt"
   ]
  },
  {
   "cell_type": "code",
   "execution_count": 2,
   "metadata": {
    "scrolled": true
   },
   "outputs": [],
   "source": [
    "from linBreg import *"
   ]
  },
  {
   "cell_type": "markdown",
   "metadata": {},
   "source": [
    "## Used Functions "
   ]
  },
  {
   "cell_type": "markdown",
   "metadata": {},
   "source": [
    "### Data Generating Functions\n",
    "\n",
    "- gkern(kernlen=21, nsig=3): returns a 2D Gaussian Kernel\n",
    "- applyK(K, n, loc=0, binsize=1): returns a sensing matrix with selected kernel"
   ]
  },
  {
   "cell_type": "code",
   "execution_count": 3,
   "metadata": {
    "scrolled": true
   },
   "outputs": [],
   "source": [
    "def gkern(kernlen=21, nsig=3):\n",
    "    '''\n",
    "    *\n",
    "    * @param <int>kernlen = 21, <int>nsig = 3\n",
    "    * @retur <2darray>kernel - 2D Gaussian kernel with sigma = nsig\n",
    "    *\n",
    "    '''\n",
    "    interval = (2*nsig+1.)/(kernlen)\n",
    "    x = np.linspace(-nsig-interval/2., nsig+interval/2., kernlen+1)\n",
    "    kern1d = np.diff(st.norm.cdf(x))\n",
    "    kernel_raw = np.sqrt(np.outer(kern1d, kern1d))\n",
    "    kernel = kernel_raw/kernel_raw.sum()\n",
    "    return kernel"
   ]
  },
  {
   "cell_type": "code",
   "execution_count": 4,
   "metadata": {},
   "outputs": [],
   "source": [
    "'''\n",
    "********* Cross-shaped Kernel Generation ********* \n",
    "\n",
    "type: function\n",
    "return: 3d numpy array\n",
    "'''\n",
    "\n",
    "# Generating a 3d cross-shaped kernel\n",
    "def kern2d_cross (klen):\n",
    "    K1 = np.zeros((klen, klen))\n",
    "    half = klen//2\n",
    "    K1[half,half] = 0.6\n",
    "    K1[half+1,half] = 0.1\n",
    "    K1[half,half+1] = 0.1\n",
    "    K1[half,half-1] = 0.1\n",
    "    K1[half-1,half] = 0.1\n",
    "    return K1;\n",
    "    "
   ]
  },
  {
   "cell_type": "code",
   "execution_count": 5,
   "metadata": {
    "scrolled": true
   },
   "outputs": [],
   "source": [
    "def applyK(K, n, loc = 0, binsize = 1):\n",
    "    \n",
    "    '''\n",
    "    *\n",
    "    * @param <2darray>K, <int>n, <int/2darray>loc, <int> 1\n",
    "    * @retur <2darray>A - Sensing matrix\n",
    "    *\n",
    "    * Applies kernel K onto each pixel of an empty matrix that is of the same size as the ground truth \n",
    "    *\n",
    "    '''\n",
    "    \n",
    "    \n",
    "    # loc = 0 or np.array((len, 2))\n",
    "    \n",
    "    if (type(loc) == int):\n",
    "        A = np.zeros((pow(n//binsize,2), pow(n,2)))\n",
    "        kernal_half_width = len(K)//2\n",
    "        for xind in np.arange(0,n):\n",
    "            for yind in np.arange(0,n):\n",
    "                im = np.zeros((n,n))\n",
    "                Ind = xind*n + yind\n",
    "                im_x1 = np.max([xind - kernal_half_width, 0])\n",
    "                im_x2 = np.min([xind + kernal_half_width, n])\n",
    "                im_y1 = np.max([yind - kernal_half_width, 0])\n",
    "                im_y2 = np.min([yind + kernal_half_width, n])\n",
    "\n",
    "                k_x1 = kernal_half_width + 1 - (xind - im_x1)\n",
    "                k_x2 = kernal_half_width + 1 + (im_x2 - xind)\n",
    "                k_y1 = kernal_half_width + 1 - (yind - im_y1)\n",
    "                k_y2 = kernal_half_width + 1 + (im_y2 - yind)\n",
    "\n",
    "                im[im_x1:im_x2, im_y1:im_y2] = K[k_x1:k_x2, k_y1:k_y2]\n",
    "                A[:,Ind]=binPixel(np.reshape(im, (n,n)), binsize).ravel()\n",
    "    else:\n",
    "        A = np.zeros((pow(n//binsize,2), len(loc)))  \n",
    "        kernal_half_width = len(K)//2\n",
    "        Ind = 0\n",
    "        for idx in loc:\n",
    "            xind = idx[0]\n",
    "            yind = idx[1]\n",
    "            im = np.zeros((n,n))\n",
    "            im_x1 = np.max([xind - kernal_half_width, 0])\n",
    "            im_x2 = np.min([xind + kernal_half_width, n])\n",
    "            im_y1 = np.max([yind - kernal_half_width, 0])\n",
    "            im_y2 = np.min([yind + kernal_half_width, n])\n",
    "            \n",
    "            k_x1 = kernal_half_width + 1 - (xind - im_x1)\n",
    "            k_x2 = kernal_half_width + 1 + (im_x2 - xind)\n",
    "            k_y1 = kernal_half_width + 1 - (yind - im_y1)\n",
    "            k_y2 = kernal_half_width + 1 + (im_y2 - yind)\n",
    "            \n",
    "\n",
    "            im[im_x1:im_x2, im_y1:im_y2] = K[k_x1:k_x2, k_y1:k_y2]\n",
    "            A[:,Ind]=binPixel(np.reshape(im, (n,n)), binsize).ravel()\n",
    "            Ind += 1\n",
    "    return A"
   ]
  },
  {
   "cell_type": "markdown",
   "metadata": {},
   "source": [
    "### Regional Recovering Functions\n",
    "\n",
    "- region_select(blur, crit=1e-3): returns locations to be recovered\n",
    "- region_to_full(u, loc): convert regional recovery to full recovery "
   ]
  },
  {
   "cell_type": "code",
   "execution_count": 6,
   "metadata": {},
   "outputs": [],
   "source": [
    "def region_select(blur, crit = 1e-3):\n",
    "    '''\n",
    "    *\n",
    "    * @param <ndarray>blur, <double>crit = 1e-3\n",
    "    * @retur <2darray>loc - locations of values in blur that are greater than the criterion value\n",
    "    *\n",
    "    '''\n",
    "    loc = np.where(blur > crit)\n",
    "    loc = np.transpose(loc)\n",
    "    \n",
    "    return loc"
   ]
  },
  {
   "cell_type": "code",
   "execution_count": 7,
   "metadata": {},
   "outputs": [],
   "source": [
    "def region_to_full(u, loc, n):\n",
    "    '''\n",
    "    *\n",
    "    * @param <2darray>u - regional recovery results, <2darray>loc - location from selected recovery region\n",
    "    * @retur <2darray>rec - full recovery result\n",
    "    *\n",
    "    '''\n",
    "    rec = np.zeros((n,n))\n",
    "    loc = np.transpose(loc)\n",
    "    for num in np.arange(0, len(loc[0, :])):\n",
    "        i = loc[0, num]\n",
    "        j = loc[1, num]\n",
    "        rec[i][j] = u[num]\n",
    "    \n",
    "#     rec = rec[rec[:,1].argsort()]\n",
    "#     rec = rec[rec[:,0].argsort(kind='mergesort')]\n",
    "        \n",
    "    return rec"
   ]
  },
  {
   "cell_type": "markdown",
   "metadata": {},
   "source": [
    "### Binning Functions\n",
    "\n",
    "- binPixel(p, ind): returns a binned matrix\n",
    "- loc_convert(loc, binsize=1): converts locations from binned matrix to those of the unbinned"
   ]
  },
  {
   "cell_type": "code",
   "execution_count": 8,
   "metadata": {
    "scrolled": true
   },
   "outputs": [],
   "source": [
    "def binPixel(p, ind):\n",
    "    \n",
    "    '''\n",
    "    *\n",
    "    * @param <2darray>p, <int>ind\n",
    "    * @retur <2darray>a1 - bins 2d array p by ind*ind pixels\n",
    "    *\n",
    "    '''\n",
    "    \n",
    "    x = p.shape[0]\n",
    "    y = p.shape[1]\n",
    "    a1 = p.reshape((x*y//ind,ind)).sum(1).reshape(x,y//ind).transpose().reshape(x*y//ind//ind,ind).sum(1).reshape(y//ind,x//ind).transpose()\n",
    "    return a1"
   ]
  },
  {
   "cell_type": "code",
   "execution_count": 9,
   "metadata": {},
   "outputs": [],
   "source": [
    "def loc_convert(loc, globin, binsize = 1):\n",
    "    '''\n",
    "    *\n",
    "    * @param <2darray>loc, <int>globin, <int>binsize = 1\n",
    "    * @retur <2darray>glob_loc - converts the binned location to the corresponding unbinned location\n",
    "    *\n",
    "    '''\n",
    "    glob_loc = np.zeros(((binsize**2)*len(loc),2))\n",
    "    bin_half_width = binsize // 2\n",
    "    loc = loc * binsize\n",
    "    loc = loc + bin_half_width\n",
    "    ind = 0\n",
    "    factor = globin // binsize\n",
    "    for grid in loc:\n",
    "        xloc = grid[0] - bin_half_width\n",
    "        yloc = grid[1] - bin_half_width\n",
    "        for xind in np.arange(0,binsize):\n",
    "            for yind in np.arange(0,binsize):\n",
    "                glob_loc[ind][0] = factor*(xloc + xind)\n",
    "                glob_loc[ind][1] = factor*(yloc + yind)\n",
    "                ind += 1\n",
    "\n",
    "    glob_loc = glob_loc.astype(int)\n",
    "    return glob_loc"
   ]
  },
  {
   "cell_type": "markdown",
   "metadata": {},
   "source": [
    "### Refinement Functions\n",
    "\n",
    "- refine:"
   ]
  },
  {
   "cell_type": "code",
   "execution_count": 10,
   "metadata": {},
   "outputs": [],
   "source": [
    "def refine(blur, kernel, loc, bsize, csize, rsize):\n",
    "    scalar = csize // rsize\n",
    "    n = blur.shape[0] * bsize\n",
    "    \n",
    "    # Map binned location to global location\n",
    "    loc = loc_convert(loc, csize, rsize)\n",
    "    # Generating regional sensing matrix with binning\n",
    "    A_bin = applyK(kernel, n, loc, bsize)\n",
    "    # Regional recovery iteration\n",
    "    u_bin = linbreg(blur.ravel(), A_bin, threshold = 1e8, stepsize = 1e-9, maxstep = 6e4, crit = 1e-7, kicking = True, plot = False)\n",
    "    # Regional recovery to full recovery finish-up\n",
    "    rec = region_to_full(u_bin, loc//scalar, n//scalar)\n",
    "    return rec"
   ]
  },
  {
   "cell_type": "markdown",
   "metadata": {},
   "source": [
    "## Simulation Run\n",
    "\n",
    "### Data Initialization"
   ]
  },
  {
   "cell_type": "code",
   "execution_count": 11,
   "metadata": {
    "scrolled": true
   },
   "outputs": [],
   "source": [
    "n = 40\n",
    "binsize = 4\n",
    "sig = 10"
   ]
  },
  {
   "cell_type": "code",
   "execution_count": 12,
   "metadata": {
    "scrolled": true
   },
   "outputs": [],
   "source": [
    "# Generating a Gaussian kernel K\n",
    "K = gkern(n+1, sig)\n",
    "\n",
    "# Generating a n*n ground truth\n",
    "imTest = np.zeros((n,n))\n",
    "midpoint = int(np.ceil(n/4))\n",
    "idx = np.random.randint(0,n-1,midpoint)\n",
    "for i in idx:\n",
    "    imTest[i][np.random.randint(0,n-1)] = np.random.rand()\n",
    "    \n",
    "# Generating a sensing matrix\n",
    "A = applyK(K, n)\n",
    "\n",
    "# Generating the blur from sensing matrix\n",
    "l = np.matmul(A, imTest.ravel())\n",
    "blur = l.reshape((n,n))"
   ]
  },
  {
   "cell_type": "markdown",
   "metadata": {},
   "source": [
    "### Regional Recovery with Binning"
   ]
  },
  {
   "cell_type": "code",
   "execution_count": 15,
   "metadata": {
    "scrolled": true
   },
   "outputs": [
    {
     "name": "stdout",
     "output_type": "stream",
     "text": [
      "10000\n",
      "20000\n",
      "30000\n",
      "40000\n",
      "50000\n"
     ]
    },
    {
     "data": {
      "image/png": "[encoded data removed]",
      "text/plain": [
       "<Figure size 432x288 with 1 Axes>"
      ]
     },
     "metadata": {
      "needs_background": "light"
     },
     "output_type": "display_data"
    }
   ],
   "source": [
    "# Binning the blur\n",
    "blur_bin = binPixel(blur,binsize)\n",
    "\n",
    "# Recovery region selection\n",
    "binned_loc = region_select(blur_bin)\n",
    "\n",
    "# Map binned location to global location\n",
    "rec_loc = loc_convert(binned_loc, binsize, binsize)\n",
    "\n",
    "# Generating regional sensing matrix with binning\n",
    "A_bin = applyK(K, n, loc = rec_loc, binsize = binsize)\n",
    "\n",
    "# Regional recovery iteration\n",
    "u_regional_bin = linbreg(blur_bin.ravel(), A_bin, threshold = 1, stepsize = 1e-3, maxstep = 5e4, crit = 1e-7, kicking = False, plot = False)\n",
    "\n",
    "# Regional recovery to full recovery finish-up\n",
    "\n",
    "rec_bin = region_to_full(u_regional_bin, rec_loc, n)"
   ]
  },
  {
   "cell_type": "markdown",
   "metadata": {},
   "source": [
    "### Progressive Refinement"
   ]
  },
  {
   "cell_type": "code",
   "execution_count": 16,
   "metadata": {},
   "outputs": [
    {
     "name": "stdout",
     "output_type": "stream",
     "text": [
      "10000\n",
      "20000\n",
      "30000\n",
      "40000\n",
      "50000\n",
      "60000\n"
     ]
    },
    {
     "data": {
      "image/png": "[encoded data removed]",
      "text/plain": [
       "<Figure size 432x288 with 1 Axes>"
      ]
     },
     "metadata": {
      "needs_background": "light"
     },
     "output_type": "display_data"
    }
   ],
   "source": [
    "current_bin = binsize\n",
    "\n",
    "'''\n",
    "First Refinement: Size = fsize\n",
    "'''\n",
    "\n",
    "fsize = 2\n",
    "\n",
    "# Recovery region selection\n",
    "f_binned_loc = region_select(blur_bin)\n",
    "\n",
    "f_rec = refine(blur_bin, K, f_binned_loc, binsize, current_bin, fsize)\n",
    "\n",
    "current_bin = current_bin // fsize"
   ]
  },
  {
   "cell_type": "code",
   "execution_count": 17,
   "metadata": {},
   "outputs": [
    {
     "name": "stdout",
     "output_type": "stream",
     "text": [
      "10000\n",
      "20000\n",
      "30000\n",
      "40000\n",
      "50000\n",
      "60000\n"
     ]
    },
    {
     "data": {
      "image/png": "[encoded data removed]",
      "text/plain": [
       "<Figure size 432x288 with 1 Axes>"
      ]
     },
     "metadata": {
      "needs_background": "light"
     },
     "output_type": "display_data"
    }
   ],
   "source": [
    "'''\n",
    "Second Refinement: Size = 2\n",
    "'''\n",
    "ssize = 2\n",
    "\n",
    "# Recovery region selection\n",
    "s_binned_loc = region_select(f_rec)\n",
    "\n",
    "s_rec = refine(blur_bin, K, s_binned_loc, binsize, current_bin, ssize)\n",
    "\n",
    "current_bin = current_bin // ssize"
   ]
  },
  {
   "cell_type": "markdown",
   "metadata": {},
   "source": [
    "## Results Visualization"
   ]
  },
  {
   "cell_type": "code",
   "execution_count": 19,
   "metadata": {},
   "outputs": [
    {
     "data": {
      "image/png": "[encoded data removed]",
      "text/plain": [
       "<Figure size 720x576 with 6 Axes>"
      ]
     },
     "metadata": {
      "needs_background": "light"
     },
     "output_type": "display_data"
    }
   ],
   "source": [
    "font = {'family' : 'DejaVu Sans',\n",
    "  'size' : 12}\n",
    "plt.rc('font', **font)\n",
    "\n",
    "fig_size = plt.rcParams[\"figure.figsize\"]\n",
    "fig_size[0] = 10\n",
    "fig_size[1] = 8\n",
    "\n",
    "ax0 = plt.subplot(231)\n",
    "ax0.get_xaxis().set_label_position('bottom')\n",
    "ax0.set_title(\"Ground Truth\")\n",
    "ax0.imshow(imTest)\n",
    "\n",
    "ax1 = plt.subplot(232)\n",
    "ax1.set_title(\"Blur, nsig = {}\".format(sig))\n",
    "ax1.imshow(blur)\n",
    "\n",
    "ax3 = plt.subplot(233)\n",
    "ax3.set_title(\"Binned Blur: binsize = {}*{}\".format(binsize,binsize))\n",
    "ax3.imshow(blur_bin)\n",
    "\n",
    "ax4 = plt.subplot(234)\n",
    "ax4.set_title(\"First Refinement: {}*{}\".format(fsize,fsize))\n",
    "ax4.imshow(rec_bin)\n",
    "    \n",
    "ax5 = plt.subplot(235)\n",
    "ax5.set_title(\"Second Refinement: {}*{}\".format(ssize,ssize))\n",
    "ax5.imshow(s_rec)\n",
    "\n",
    "ax6 = plt.subplot(236)\n",
    "ax6.set_title(\"Location Check\")\n",
    "ax6.imshow(s_rec-imTest)\n",
    "\n",
    "    \n",
    "plt.subplots_adjust(hspace=.4) \n",
    "\n",
    "plt.suptitle(\"Progressive Refinement Recovery Result\", size = 20)\n",
    "plt.savefig(\"P_{}_NSig_{}_{}x{}.jpg\".format(binsize, sig, n,n))"
   ]
  }
 ],
 "metadata": {
  "kernelspec": {
   "display_name": "Python 3",
   "language": "python",
   "name": "python3"
  },
  "language_info": {
   "codemirror_mode": {
    "name": "ipython",
    "version": 3
   },
   "file_extension": ".py",
   "mimetype": "text/x-python",
   "name": "python",
   "nbconvert_exporter": "python",
   "pygments_lexer": "ipython3",
   "version": "3.7.0"
  }
 },
 "nbformat": 4,
 "nbformat_minor": 2
}
